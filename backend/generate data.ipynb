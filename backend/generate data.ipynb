{
 "cells": [
  {
   "cell_type": "code",
   "execution_count": 1,
   "metadata": {},
   "outputs": [],
   "source": [
    "import numpy as np\n",
    "import pandas as pd\n",
    "import json\n",
    "from datetime import date\n",
    "import math"
   ]
  },
  {
   "cell_type": "code",
   "execution_count": 2,
   "metadata": {},
   "outputs": [],
   "source": [
    "start = date(2020, 3, 16)\n",
    "today = date(2020, 11, 11)\n",
    "num_days = (today-start).days+1"
   ]
  },
  {
   "cell_type": "markdown",
   "metadata": {},
   "source": [
    "#### Confirmed Cases"
   ]
  },
  {
   "cell_type": "code",
   "execution_count": 3,
   "metadata": {},
   "outputs": [],
   "source": [
    "df = pd.read_csv(\"Covid-19.csv\")\n",
    "df = df[[\"Time Stamp\", \"Region\", \"Number of cases\"]]\n",
    "df[\"Time Stamp\"] = pd.to_datetime(df[\"Time Stamp\"]).apply(lambda x: x.date())\n",
    "df.sort_values(by = \"Time Stamp\", inplace = True)"
   ]
  },
  {
   "cell_type": "code",
   "execution_count": 4,
   "metadata": {},
   "outputs": [],
   "source": [
    "g1 = df.groupby(by = \"Region\")"
   ]
  },
  {
   "cell_type": "markdown",
   "metadata": {},
   "source": [
    "#### Case Density"
   ]
  },
  {
   "cell_type": "code",
   "execution_count": 5,
   "metadata": {},
   "outputs": [],
   "source": [
    "df = pd.read_csv(\"Covid-19-density.csv\")\n",
    "df = df[[\"Time Stamp\", \"Region\", \"Density\"]]\n",
    "df[\"Time Stamp\"] = pd.to_datetime(df[\"Time Stamp\"]).apply(lambda x: x.date())\n",
    "df.sort_values(by = \"Time Stamp\", inplace = True)"
   ]
  },
  {
   "cell_type": "code",
   "execution_count": 6,
   "metadata": {},
   "outputs": [],
   "source": [
    "g2 = df.groupby(by = \"Region\")"
   ]
  },
  {
   "cell_type": "markdown",
   "metadata": {},
   "source": [
    "#### Risk Score"
   ]
  },
  {
   "cell_type": "code",
   "execution_count": 7,
   "metadata": {},
   "outputs": [],
   "source": [
    "df = pd.read_csv(\"Covid-19-R.csv\")\n",
    "df = df[[\"Time Stamp\", \"Region\", \"R\"]]\n",
    "df[\"Time Stamp\"] = pd.to_datetime(df[\"Time Stamp\"]).apply(lambda x: x.date())\n",
    "df.sort_values(by = \"Time Stamp\", inplace = True)"
   ]
  },
  {
   "cell_type": "code",
   "execution_count": 8,
   "metadata": {},
   "outputs": [],
   "source": [
    "g3 = df.groupby(by = \"Region\")"
   ]
  },
  {
   "cell_type": "markdown",
   "metadata": {},
   "source": [
    "#### Total Case & Daily Case"
   ]
  },
  {
   "cell_type": "code",
   "execution_count": 9,
   "metadata": {},
   "outputs": [],
   "source": [
    "with open(\"total_cases.json\", 'r') as f:\n",
    "    reader = json.load(f)\n",
    "\n",
    "total_cases = [0] * num_days\n",
    "for key, value in reader.items():\n",
    "    total_cases[int(key)-16] = int(value[1].replace(\",\", \"\"))\n",
    "\n",
    "daily_cases = [total_cases[0]] * num_days\n",
    "for i in range(1, num_days):\n",
    "    daily_cases[i] = total_cases[i]-total_cases[i-1]\n",
    "    \n",
    "daily_cases_avg = [0] * num_days\n",
    "for i in range(num_days):\n",
    "    if i < 7: daily_cases_avg[i] = round(total_cases[i]/(i+1), 1)\n",
    "    else: daily_cases_avg[i] = round((total_cases[i]-total_cases[i-7])/7, 1)"
   ]
  },
  {
   "cell_type": "markdown",
   "metadata": {},
   "source": [
    "#### Total Death & Daily Death"
   ]
  },
  {
   "cell_type": "code",
   "execution_count": 18,
   "metadata": {},
   "outputs": [],
   "source": [
    "with open(\"total_deaths.json\", 'r') as f:\n",
    "    reader = json.load(f)\n",
    "\n",
    "total_deaths = [0] * num_days\n",
    "for key, value in reader.items():\n",
    "    total_deaths[int(key)-16] = int(value[0][1].replace(\",\", \"\"))\n",
    "\n",
    "daily_deaths = [total_deaths[0]] * num_days\n",
    "for i in range(1, num_days):\n",
    "    daily_deaths[i] = total_deaths[i]-total_deaths[i-1]\n",
    "    \n",
    "daily_deaths_avg = [0] * num_days\n",
    "for i in range(num_days):\n",
    "    if i < 7: daily_deaths_avg[i] = round(total_deaths[i]/(i+1), 1)\n",
    "    else: daily_deaths_avg[i] = round((total_deaths[i]-total_deaths[i-7])/7, 1)"
   ]
  },
  {
   "cell_type": "markdown",
   "metadata": {},
   "source": [
    "#### Construct Dict"
   ]
  },
  {
   "cell_type": "code",
   "execution_count": 19,
   "metadata": {},
   "outputs": [],
   "source": [
    "region_density = {}\n",
    "for name, group in g2:\n",
    "    region_density[name] = [0] * num_days\n",
    "    for index, row in group.iterrows():\n",
    "        region_density[name][(row[\"Time Stamp\"]-start).days] = round(row[\"Density\"], 5)"
   ]
  },
  {
   "cell_type": "code",
   "execution_count": 20,
   "metadata": {},
   "outputs": [],
   "source": [
    "region_R = {}\n",
    "for name, group in g3:\n",
    "    region_R[name] = [0 for _ in range(num_days)]\n",
    "    for index, row in group.iterrows():\n",
    "        region_R[name][(row[\"Time Stamp\"]-start).days] = round(row[\"R\"], 3) "
   ]
  },
  {
   "cell_type": "code",
   "execution_count": 21,
   "metadata": {},
   "outputs": [],
   "source": [
    "sequence = {}\n",
    "sequence[\"dates\"] = []\n",
    "for t in pd.date_range(start, today):\n",
    "    sequence[\"dates\"].append(t.strftime(\"%m-%d\"))\n",
    "\n",
    "sequence[\"total_cases\"] = total_cases\n",
    "sequence[\"daily_cases\"] = daily_cases\n",
    "sequence[\"daily_cases_avg\"] = daily_cases_avg\n",
    "\n",
    "sequence[\"total_deaths\"] = total_deaths\n",
    "sequence[\"daily_deaths\"] = daily_deaths\n",
    "sequence[\"daily_deaths_avg\"] = daily_deaths_avg"
   ]
  },
  {
   "cell_type": "code",
   "execution_count": 22,
   "metadata": {},
   "outputs": [],
   "source": [
    "top_cases = list(g1.tail(1).sort_values(by = \"Number of cases\").tail(6)[\"Region\"])\n",
    "sequence[\"top_cases\"] = dict(zip(top_cases, [list(g1.get_group(x)[\"Number of cases\"]) for x in top_cases]))\n",
    "\n",
    "top_density = list(g2.tail(1).sort_values(by = \"Density\").tail(6)[\"Region\"])\n",
    "sequence[\"top_density\"] = dict(zip(top_density, [list(g2.get_group(x)[\"Density\"]) for x in top_density]))"
   ]
  },
  {
   "cell_type": "markdown",
   "metadata": {},
   "source": [
    "#### Generate JSON"
   ]
  },
  {
   "cell_type": "code",
   "execution_count": 23,
   "metadata": {},
   "outputs": [],
   "source": [
    "with open('region_density.json', 'w') as f:\n",
    "    json.dump(region_density, f, ensure_ascii = False)"
   ]
  },
  {
   "cell_type": "code",
   "execution_count": 24,
   "metadata": {},
   "outputs": [],
   "source": [
    "with open('region_R.json', 'w') as f:\n",
    "    json.dump(region_R, f, ensure_ascii = False)"
   ]
  },
  {
   "cell_type": "code",
   "execution_count": 25,
   "metadata": {},
   "outputs": [],
   "source": [
    "with open('sequence.json', 'w') as f:\n",
    "    json.dump(sequence, f, ensure_ascii = False)"
   ]
  }
 ],
 "metadata": {
  "kernelspec": {
   "display_name": "Python 3",
   "language": "python",
   "name": "python3"
  },
  "language_info": {
   "codemirror_mode": {
    "name": "ipython",
    "version": 3
   },
   "file_extension": ".py",
   "mimetype": "text/x-python",
   "name": "python",
   "nbconvert_exporter": "python",
   "pygments_lexer": "ipython3",
   "version": "3.6.3"
  }
 },
 "nbformat": 4,
 "nbformat_minor": 2
}
